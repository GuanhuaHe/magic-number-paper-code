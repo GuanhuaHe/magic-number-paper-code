{
 "cells": [
  {
   "cell_type": "code",
   "execution_count": 1,
   "metadata": {
    "collapsed": true
   },
   "outputs": [],
   "source": [
    "import numpy as np\n",
    "import pylab\n",
    "import pandas as pd\n",
    "from scipy.stats import linregress\n",
    "from matplotlib.colors import LogNorm\n",
    "from numpy import polyfit\n",
    "from scipy.optimize import brenth\n",
    "from scipy.interpolate import interp1d,UnivariateSpline\n",
    "%matplotlib inline\n",
    "import seaborn as sns\n"
   ]
  },
  {
   "cell_type": "code",
   "execution_count": 2,
   "metadata": {
    "collapsed": true
   },
   "outputs": [],
   "source": [
    "def get_proba(df,LSIM):\n",
    "    meanval = df[df.LSIM==LSIM].groupby(['NSUMO'])['ClusterSize'].mean()\n",
    "    \n",
    "    errors = df[df.LSIM==LSIM].groupby(['NSUMO'])['ClusterSize'].std()\n",
    "    ddf = meanval.to_frame()\n",
    "    errors = errors.to_frame()\n",
    "    ddf['errors'] = errors['ClusterSize']\n",
    "    ddf.reset_index(inplace=True)\n",
    "    k = ddf.groupby(['NSUMO']).mean().reset_index()\n",
    "    return k"
   ]
  },
  {
   "cell_type": "code",
   "execution_count": 155,
   "metadata": {
    "collapsed": false
   },
   "outputs": [],
   "source": [
    "df1 = pd.read_csv('sizeDistri_run12_new.txt', sep='\\t', header=None)\n",
    "df1.columns = ['NSIM', 'NSUMO', 'LSIM', 'LSUMO', 'beta', 'gamma', 'step', 'sumoSizes', 'simSizes']\n",
    "cluster_size = []\n",
    "for idx in range(len(df1)):\n",
    "    distri = df1.loc[idx].sumoSizes\n",
    "    sizes = distri.split('[')[1].split(']')[0].split(' ')\n",
    "    sizes = filter(None, sizes)\n",
    "    sizes = pylab.array([int(ele) for ele in sizes])\n",
    "    cluster_size.append(sum(np.square(sizes))/float(sum(sizes)))\n",
    "df1['ClusterSize'] = cluster_size\n",
    "df1 = df1[df1.beta==10]\n",
    "\n"
   ]
  },
  {
   "cell_type": "code",
   "execution_count": 156,
   "metadata": {
    "collapsed": false
   },
   "outputs": [],
   "source": [
    "df2 = pd.read_csv('sizeDistri_run13_new.txt', sep='\\t', header=None)\n",
    "df2.columns = ['NSIM', 'NSUMO', 'LSIM', 'LSUMO', 'beta', 'gamma', 'step', 'sumoSizes', 'simSizes']\n",
    "cluster_size = []\n",
    "for idx in range(len(df2)):\n",
    "    distri = df2.loc[idx].sumoSizes\n",
    "    sizes = distri.split('[')[1].split(']')[0].split(' ')\n",
    "    sizes = filter(None, sizes)\n",
    "    sizes = pylab.array([int(ele) for ele in sizes])\n",
    "    cluster_size.append(sum(np.square(sizes))/float(sum(sizes)))\n",
    "df2['ClusterSize'] = cluster_size\n",
    "df2 = df2[df2.beta==10]\n"
   ]
  },
  {
   "cell_type": "code",
   "execution_count": 157,
   "metadata": {
    "collapsed": false
   },
   "outputs": [],
   "source": [
    "df3 = pd.read_csv('sizeDistri_run14_new.txt', sep='\\t', header=None)\n",
    "df3.columns = ['NSIM', 'NSUMO', 'LSIM', 'LSUMO', 'beta', 'gamma', 'step', 'sumoSizes', 'simSizes']\n",
    "cluster_size = []\n",
    "for idx in range(len(df3)):\n",
    "    distri = df3.loc[idx].sumoSizes\n",
    "    sizes = distri.split('[')[1].split(']')[0].split(' ')\n",
    "    sizes = filter(None, sizes)\n",
    "    sizes = pylab.array([int(ele) for ele in sizes])\n",
    "    cluster_size.append(sum(np.square(sizes))/float(sum(sizes)))\n",
    "df3['ClusterSize'] = cluster_size\n",
    "df3 = df3[df3.beta==10]\n",
    "\n"
   ]
  },
  {
   "cell_type": "code",
   "execution_count": 158,
   "metadata": {
    "collapsed": false
   },
   "outputs": [],
   "source": [
    "i=8\n",
    "\n",
    "x1 = get_proba(df1,i).NSUMO*8/2500\n",
    "y1 = get_proba(df1,i).ClusterSize/50\n",
    "err1 = get_proba(df1,i).errors\n",
    "\n",
    "x2 = get_proba(df2,i).NSUMO*8/10000\n",
    "y2 = get_proba(df2,i).ClusterSize/100\n",
    "err2 = get_proba(df2,i).errors\n",
    "\n",
    "x3 = get_proba(df3,i).NSUMO*8/40000\n",
    "y3 = get_proba(df3,i).ClusterSize/200\n",
    "err3 = get_proba(df3,i).errors"
   ]
  },
  {
   "cell_type": "code",
   "execution_count": 159,
   "metadata": {
    "collapsed": false
   },
   "outputs": [],
   "source": [
    "from scipy.interpolate import UnivariateSpline\n"
   ]
  },
  {
   "cell_type": "code",
   "execution_count": 160,
   "metadata": {
    "collapsed": false
   },
   "outputs": [],
   "source": [
    "s = UnivariateSpline(x1, pylab.log(y1), s=1, k=3)\n",
    "x = pylab.linspace(0, 0.85, 100)\n",
    "yy1 = s(x)\n",
    "s = UnivariateSpline(x2, pylab.log(y2), s=1, k=3)\n",
    "yy2 = s(x)\n",
    "s = UnivariateSpline(x3, pylab.log(y3), s=1, k=3)\n",
    "yy3 = s(x)\n",
    "\n"
   ]
  },
  {
   "cell_type": "code",
   "execution_count": 162,
   "metadata": {
    "collapsed": false
   },
   "outputs": [
    {
     "data": {
      "image/png": "[encoded data removed]",
      "text/plain": [
       "<matplotlib.figure.Figure at 0x11c54e6d8>"
      ]
     },
     "metadata": {},
     "output_type": "display_data"
    }
   ],
   "source": [
    "pylab.errorbar(x1,y1,fmt='o', linewidth=2,label='50*50')\n",
    "pylab.errorbar(x2,y2,fmt='^', linewidth=2,label='100*100')\n",
    "pylab.errorbar(x3,y3,fmt='s', linewidth=2,label='200*200')\n",
    "\n",
    "pylab.errorbar(x, pylab.exp(yy1),fmt='-', linewidth=2)\n",
    "pylab.errorbar(x, pylab.exp(yy2),fmt='-', linewidth=2)\n",
    "pylab.errorbar(x, pylab.exp(yy3),fmt='-', linewidth=2)\n",
    "\n",
    "#pylab.semilogy()\n",
    "\n",
    "sns.set_style('ticks')\n",
    "sns.set_palette(\"Set2\", 10)\n",
    "#pylab.axes().set_aspect(1)\n",
    "pylab.xlabel('Rubisco concentration')\n",
    "pylab.ylabel('Cluster size/root(volume)')\n",
    "pylab.legend()\n",
    "pylab.title('EPYC=8')\n",
    "#pylab.ylim(0,5000)\n",
    "pylab.savefig('/Users/guanhuahe/Desktop/jonikas_lab/Simulation_Rubisco/0605_meet/nolog_size_cluster(8)_VolumeRootDivision.pdf')"
   ]
  },
  {
   "cell_type": "code",
   "execution_count": 81,
   "metadata": {
    "collapsed": false
   },
   "outputs": [
    {
     "data": {
      "text/plain": [
       "0       1.091892\n",
       "1       1.293229\n",
       "2       1.289268\n",
       "3       1.524412\n",
       "4       2.716332\n",
       "5       3.967258\n",
       "6       7.483428\n",
       "7       8.631279\n",
       "8      37.882497\n",
       "9      89.617002\n",
       "10    101.605026\n",
       "11    126.113889\n",
       "12    166.928638\n",
       "13    194.947723\n",
       "14    213.439901\n",
       "15    239.189550\n",
       "16    255.563930\n",
       "Name: ClusterSize, dtype: float64"
      ]
     },
     "execution_count": 81,
     "metadata": {},
     "output_type": "execute_result"
    },
    {
     "data": {
      "image/png": "[encoded data removed]",
      "text/plain": [
       "<matplotlib.figure.Figure at 0x112656d68>"
      ]
     },
     "metadata": {},
     "output_type": "display_data"
    }
   ],
   "source": [
    "pylab.errorbar(x1,y1,yerr=err1/(50.0**2),fmt='o', linewidth=2,label='50*50')\n",
    "pylab.semilogy()\n",
    "y1"
   ]
  },
  {
   "cell_type": "code",
   "execution_count": null,
   "metadata": {
    "collapsed": true
   },
   "outputs": [],
   "source": []
  }
 ],
 "metadata": {
  "kernelspec": {
   "display_name": "Python 3",
   "language": "python",
   "name": "python3"
  },
  "language_info": {
   "codemirror_mode": {
    "name": "ipython",
    "version": 3
   },
   "file_extension": ".py",
   "mimetype": "text/x-python",
   "name": "python",
   "nbconvert_exporter": "python",
   "pygments_lexer": "ipython3",
   "version": "3.6.0"
  }
 },
 "nbformat": 4,
 "nbformat_minor": 2
}
