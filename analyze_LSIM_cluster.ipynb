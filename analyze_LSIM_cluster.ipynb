{
 "cells": [
  {
   "cell_type": "code",
   "execution_count": 1,
   "metadata": {
    "collapsed": true
   },
   "outputs": [],
   "source": [
    "import numpy as np\n",
    "import pylab\n",
    "import pandas as pd\n",
    "from scipy.stats import linregress\n",
    "from matplotlib.colors import LogNorm\n",
    "from numpy import polyfit\n",
    "from scipy.optimize import brenth\n",
    "from scipy.interpolate import interp1d,UnivariateSpline\n",
    "import seaborn as sns\n",
    "\n",
    "%matplotlib inline"
   ]
  },
  {
   "cell_type": "code",
   "execution_count": 7,
   "metadata": {
    "collapsed": false
   },
   "outputs": [],
   "source": [
    "df = pd.read_csv('sizeDistri_mid_eq_7_9.txt', sep='\\t', header=None)\n",
    "df.columns = ['NSIM', 'NSIM2', 'NSUMO', 'LSIM', 'LSIM2', 'LSUMO', 'beta', 'gamma', 'step', 'sumoSizes', 'simSizes']\n",
    "ratio_in_cluster = []\n",
    "cluster_size = []\n",
    "dimer = []\n",
    "for idx in range(len(df)):\n",
    "    distri = df.loc[idx].sumoSizes\n",
    "    sizes = distri.split('[')[1].split(']')[0].split(' ')\n",
    "    sizes = filter(None, sizes)\n",
    "    sizes = pylab.array([int(ele) for ele in sizes])\n",
    "    ratio_in_cluster.append(sum(sizes[sizes>10])/float(sum(sizes)))\n",
    "    cluster_size.append(sum(np.square(sizes))/float(sum(sizes)))\n",
    "    dimer.append(sum(sizes[sizes==1])/float(sum(sizes)))\n",
    "df['RatioInCluster'] = ratio_in_cluster\n",
    "df['ClusterSize'] = cluster_size\n",
    "df = df[df.beta>8]"
   ]
  },
  {
   "cell_type": "code",
   "execution_count": 108,
   "metadata": {
    "collapsed": false
   },
   "outputs": [],
   "source": [
    "df_ctrl = pd.read_csv('sizeDistri_run9_ctrl.txt', sep='\\t', header=None)\n",
    "df_ctrl.columns = ['NSIM', 'NSUMO', 'LSIM', 'LSUMO', 'beta', 'gamma', 'step', 'sumoSizes', 'simSizes']\n",
    "ratio_in_cluster = []\n",
    "cluster_size = []\n",
    "for idx in range(len(df_ctrl)):\n",
    "    distri = df_ctrl.loc[idx].sumoSizes\n",
    "    sizes = distri.split('[')[1].split(']')[0].split(' ')\n",
    "    sizes = filter(None, sizes)\n",
    "    sizes = pylab.array([int(ele) for ele in sizes])\n",
    "    ratio_in_cluster.append(sum(sizes[sizes>10])/float(sum(sizes)))\n",
    "#    cluster_size.append(sum(np.square(sizes))/(df.loc[idx].NSUMO*df.loc[idx].LSUMO))\n",
    "    cluster_size.append(sum(np.square(sizes))/float(sum(sizes)))\n",
    "df_ctrl['RatioInCluster'] = ratio_in_cluster\n",
    "df_ctrl['ClusterSize'] = cluster_size\n"
   ]
  },
  {
   "cell_type": "code",
   "execution_count": 8,
   "metadata": {
    "collapsed": false
   },
   "outputs": [],
   "source": [
    "def get_proba(LSIM):\n",
    "    meanval = df[df.LSIM==LSIM].groupby(['NSUMO'])['ClusterSize'].mean()    \n",
    "    errors = df[df.LSIM==LSIM].groupby(['NSUMO'])['ClusterSize'].std()\n",
    "    ddf = meanval.to_frame()\n",
    "    errors = errors.to_frame()\n",
    "    ddf['errors'] = errors['ClusterSize']\n",
    "    ddf.reset_index(inplace=True)\n",
    "    k = ddf.groupby(['NSUMO']).mean().reset_index()\n",
    "    return k"
   ]
  },
  {
   "cell_type": "code",
   "execution_count": 17,
   "metadata": {
    "collapsed": false,
    "scrolled": true
   },
   "outputs": [],
   "source": [
    "def get_proba(LSIM):\n",
    "    meanval = df[df.LSIM==LSIM].groupby(['NSUMO'])['RatioInCluster'].mean()    \n",
    "    errors = df[df.LSIM==LSIM].groupby(['NSUMO'])['RatioInCluster'].std()\n",
    "    ddf = meanval.to_frame()\n",
    "    errors = errors.to_frame()\n",
    "    ddf['errors'] = errors['RatioInCluster']\n",
    "    #errors.reset_index(inplace=True)\n",
    "    ddf.reset_index(inplace=True)\n",
    "    k = ddf.groupby(['NSUMO']).mean().reset_index()\n",
    "    return k"
   ]
  },
  {
   "cell_type": "code",
   "execution_count": 24,
   "metadata": {
    "collapsed": false,
    "scrolled": true
   },
   "outputs": [
    {
     "data": {
      "text/plain": [
       "0     1.000000\n",
       "1     1.000000\n",
       "2     0.999763\n",
       "3     1.000000\n",
       "4     1.000000\n",
       "5     1.000000\n",
       "6     0.999934\n",
       "7     0.999732\n",
       "8     1.000000\n",
       "9     1.000000\n",
       "10    1.000000\n",
       "11    1.000000\n",
       "12    1.000000\n",
       "13    1.000000\n",
       "14    1.000000\n",
       "Name: RatioInCluster, dtype: float64"
      ]
     },
     "execution_count": 24,
     "metadata": {},
     "output_type": "execute_result"
    }
   ],
   "source": [
    "get_proba(7).RatioInCluster"
   ]
  },
  {
   "cell_type": "code",
   "execution_count": 30,
   "metadata": {
    "collapsed": false
   },
   "outputs": [
    {
     "name": "stdout",
     "output_type": "stream",
     "text": [
      "7\n",
      "8\n",
      "9\n"
     ]
    },
    {
     "data": {
      "image/png": "[encoded data removed]",
      "text/plain": [
       "<matplotlib.figure.Figure at 0x115064a90>"
      ]
     },
     "metadata": {},
     "output_type": "display_data"
    }
   ],
   "source": [
    "D = 50\n",
    "LRubi = 8\n",
    "\n",
    "for LEPYC in range(7,10):\n",
    "    pylab.errorbar(get_proba(LEPYC).NSUMO*LRubi/(D**2),get_proba(LEPYC).RatioInCluster, fmt='-', linewidth=2,label=str(LEPYC))\n",
    "    print(LEPYC)\n",
    "\n",
    "sns.set_style('ticks')\n",
    "sns.set_palette(\"Set2\", 10)\n",
    "#pylab.axes().set_aspect(1)\n",
    "pylab.xlabel('Rubisco concentration')\n",
    "pylab.ylabel('Ratio in Cluster > 10')\n",
    "pylab.legend()\n",
    "#pylab.semilogy()\n",
    "#pylab.ylim(0,1000)\n",
    "pylab.ylim(-0.15,1.1)\n",
    "pylab.title('midline_rubisco')\n",
    "pylab.savefig('/Users/guanhuahe/Desktop/jonikas_lab/Simulation_Rubisco/meet/0801_meet/midline_RatioInCluster(7-9).pdf')\n",
    "\n"
   ]
  },
  {
   "cell_type": "code",
   "execution_count": 44,
   "metadata": {
    "collapsed": false
   },
   "outputs": [
    {
     "data": {
      "image/png": "[encoded data removed]",
      "text/plain": [
       "<matplotlib.figure.Figure at 0x11a05f0f0>"
      ]
     },
     "metadata": {},
     "output_type": "display_data"
    }
   ],
   "source": [
    "current_palette = sns.color_palette('colorblind')\n",
    "sns.palplot(current_palette)"
   ]
  },
  {
   "cell_type": "code",
   "execution_count": 128,
   "metadata": {
    "collapsed": false
   },
   "outputs": [
    {
     "data": {
      "text/plain": [
       "[]"
      ]
     },
     "execution_count": 128,
     "metadata": {},
     "output_type": "execute_result"
    },
    {
     "data": {
      "image/png": "[encoded data removed]",
      "text/plain": [
       "<matplotlib.figure.Figure at 0x117ee9128>"
      ]
     },
     "metadata": {},
     "output_type": "display_data"
    }
   ],
   "source": [
    "pylab.errorbar(get_proba(df,3).NSUMO*LRubi/(D**2),get_proba(df,3).ClusterSize/get_proba(df_ctrl,3).ClusterSize,yerr=get_proba(df,3).errors,fmt='-', linewidth=2,label='L=3')\n",
    "pylab.semilogy()\n",
    "pylab.ylim(0,5000)"
   ]
  },
  {
   "cell_type": "code",
   "execution_count": null,
   "metadata": {
    "collapsed": true
   },
   "outputs": [],
   "source": []
  }
 ],
 "metadata": {
  "kernelspec": {
   "display_name": "Python 3",
   "language": "python",
   "name": "python3"
  },
  "language_info": {
   "codemirror_mode": {
    "name": "ipython",
    "version": 3
   },
   "file_extension": ".py",
   "mimetype": "text/x-python",
   "name": "python",
   "nbconvert_exporter": "python",
   "pygments_lexer": "ipython3",
   "version": "3.6.0"
  }
 },
 "nbformat": 4,
 "nbformat_minor": 2
}
